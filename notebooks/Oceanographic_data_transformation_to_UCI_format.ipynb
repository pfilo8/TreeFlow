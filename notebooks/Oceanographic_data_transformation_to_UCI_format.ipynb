{
 "cells": [
  {
   "cell_type": "code",
   "execution_count": 1,
   "metadata": {},
   "outputs": [],
   "source": [
    "import numpy as np\n",
    "import pandas as pd"
   ]
  },
  {
   "cell_type": "code",
   "execution_count": 2,
   "metadata": {},
   "outputs": [
    {
     "name": "stdout",
     "output_type": "stream",
     "text": [
      "(414697, 12)\n",
      "(414697, 12)\n"
     ]
    }
   ],
   "source": [
    "df = pd.read_hdf('data/01_raw/Oceanographic/daily_data_nao_drogue_zenado.h5')\n",
    "print(df.shape)\n",
    "df = df.dropna()\n",
    "print(df.shape)\n",
    "\n",
    "df['u'] = df['u'] * 100\n",
    "df['v'] = df['v'] * 100"
   ]
  },
  {
   "cell_type": "code",
   "execution_count": 3,
   "metadata": {},
   "outputs": [],
   "source": [
    "np.savetxt('data/01_raw/Oceanographic/data.txt', df.values)"
   ]
  },
  {
   "cell_type": "code",
   "execution_count": 4,
   "metadata": {},
   "outputs": [],
   "source": [
    "with open('data/01_raw/Oceanographic/index_features.txt', 'w+') as f:\n",
    "    for i in range(1, 10):\n",
    "        f.write(f\"{i}\\n\")"
   ]
  },
  {
   "cell_type": "code",
   "execution_count": 5,
   "metadata": {},
   "outputs": [],
   "source": [
    "with open('data/01_raw/Oceanographic/index_target.txt', 'w+') as f:\n",
    "    for i in range(10, 12):\n",
    "        f.write(f\"{i}\\n\")"
   ]
  },
  {
   "cell_type": "code",
   "execution_count": 6,
   "metadata": {},
   "outputs": [],
   "source": [
    "def random_id_subset(ids, pc=0.1):\n",
    "    unique_id = np.unique(ids)\n",
    "    N_unique = len(unique_id)\n",
    "    np.random.shuffle(unique_id)\n",
    "    in_test = int(N_unique * pc)\n",
    "    test_ids = unique_id[:in_test]\n",
    "    test_mask = np.in1d(ids, test_ids)\n",
    "    train_mask = np.invert(test_mask)\n",
    "    return train_mask, test_mask"
   ]
  },
  {
   "cell_type": "code",
   "execution_count": 7,
   "metadata": {},
   "outputs": [],
   "source": [
    "shuffle_seed = 500\n",
    "N_runs = 20\n",
    "\n",
    "np.random.seed(shuffle_seed)\n",
    "\n",
    "for i in range(N_runs):\n",
    "    train_mask, test_mask = random_id_subset(df.index)\n",
    "    \n",
    "    np.savetxt(f'data/01_raw/Oceanographic/index_train_{i}.txt', np.argwhere(train_mask == True).reshape(-1), fmt='%d')\n",
    "    np.savetxt(f'data/01_raw/Oceanographic/index_test_{i}.txt', np.argwhere(test_mask == True).reshape(-1), fmt='%d')"
   ]
  },
  {
   "cell_type": "code",
   "execution_count": 8,
   "metadata": {},
   "outputs": [],
   "source": [
    "with open('data/01_raw/Oceanographic/n_splits.txt', 'w+') as f:\n",
    "    f.write(f\"{N_runs}\\n\")"
   ]
  }
 ],
 "metadata": {
  "kernelspec": {
   "display_name": "Python 3",
   "language": "python",
   "name": "python3"
  },
  "language_info": {
   "codemirror_mode": {
    "name": "ipython",
    "version": 3
   },
   "file_extension": ".py",
   "mimetype": "text/x-python",
   "name": "python",
   "nbconvert_exporter": "python",
   "pygments_lexer": "ipython3",
   "version": "3.7.4"
  }
 },
 "nbformat": 4,
 "nbformat_minor": 2
}
