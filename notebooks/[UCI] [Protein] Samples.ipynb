{
 "cells": [
  {
   "cell_type": "code",
   "execution_count": 18,
   "id": "4051c9e6",
   "metadata": {
    "pycharm": {
     "name": "#%%\n"
    }
   },
   "outputs": [],
   "source": [
    "import catboost\n",
    "import matplotlib.pyplot as plt\n",
    "import numpy as np\n",
    "import pandas as pd\n",
    "import seaborn as sns\n",
    "import scipy.stats as stats\n",
    "\n",
    "from nflows.distributions import ConditionalDiagonalNormal\n",
    "\n",
    "from src.probabilistic_flow_boosting.pipelines.reporting.nodes import calculate_nll"
   ]
  },
  {
   "cell_type": "code",
   "execution_count": 2,
   "id": "d424c075",
   "metadata": {
    "pycharm": {
     "name": "#%%\n"
    }
   },
   "outputs": [
    {
     "name": "stdout",
     "output_type": "stream",
     "text": [
      "2022-01-17 07:07:20,880 - kedro.io.data_catalog - INFO - Loading data from `uci_protein_1.x_train` (UCIDataSet)...\n",
      "2022-01-17 07:07:21,361 - kedro.io.data_catalog - INFO - Loading data from `uci_protein_1.y_train` (UCIDataSet)...\n",
      "2022-01-17 07:07:21,846 - kedro.io.data_catalog - INFO - Loading data from `uci_protein_1.x_test` (UCIDataSet)...\n",
      "2022-01-17 07:07:22,229 - kedro.io.data_catalog - INFO - Loading data from `uci_protein_1.y_test` (UCIDataSet)...\n",
      "2022-01-17 07:07:22,611 - kedro.io.data_catalog - INFO - Loading data from `uci_protein_1.model` (TFBoostDataSet)...\n"
     ]
    }
   ],
   "source": [
    "x_train = catalog.load('uci_protein_1.x_train')\n",
    "y_train = catalog.load('uci_protein_1.y_train')\n",
    "\n",
    "x_test = catalog.load('uci_protein_1.x_test')\n",
    "y_test = catalog.load('uci_protein_1.y_test')\n",
    "model = catalog.load('uci_protein_1.model')"
   ]
  },
  {
   "cell_type": "code",
   "execution_count": 3,
   "id": "a6d937f5",
   "metadata": {
    "pycharm": {
     "name": "#%%\n"
    }
   },
   "outputs": [
    {
     "data": {
      "text/plain": [
       "<catboost.core.CatBoostRegressor at 0x7f333980c3c8>"
      ]
     },
     "execution_count": 3,
     "metadata": {},
     "output_type": "execute_result"
    }
   ],
   "source": [
    "model_tree = catboost.CatBoostRegressor(loss_function='RMSEWithUncertainty')\n",
    "model_tree.fit(x_train, y_train, verbose=False)"
   ]
  },
  {
   "cell_type": "code",
   "execution_count": 16,
   "id": "b3597418",
   "metadata": {
    "pycharm": {
     "name": "#%%\n"
    }
   },
   "outputs": [],
   "source": [
    "def calculate_nll_catboost(model: catboost.CatBoostRegressor, x: pd.DataFrame, y: pd.DataFrame):\n",
    "    x: np.ndarray = x.values\n",
    "    y: np.ndarray = y.values\n",
    "\n",
    "    if y.shape[1] > 1:\n",
    "        return np.nan\n",
    "\n",
    "    y_hat_tree = model.predict(x)\n",
    "    y_hat_tree[:, 1] = np.log(np.sqrt(y_hat_tree[:, 1]))  # Transform var to log std / CatBoost RMSEWithUncertainty\n",
    "\n",
    "    distribution = ConditionalDiagonalNormal(shape=[1])  # Assume 1D distribution\n",
    "    return -distribution.log_prob(y, y_hat_tree).numpy().mean()"
   ]
  },
  {
   "cell_type": "code",
   "execution_count": 12,
   "id": "2a936c14",
   "metadata": {
    "pycharm": {
     "name": "#%%\n"
    }
   },
   "outputs": [
    {
     "data": {
      "text/plain": [
       "1.7185029"
      ]
     },
     "execution_count": 12,
     "metadata": {},
     "output_type": "execute_result"
    }
   ],
   "source": [
    "calculate_nll(model, x_train, y_train, batch_size = 512)"
   ]
  },
  {
   "cell_type": "code",
   "execution_count": 13,
   "id": "0e5b06fc",
   "metadata": {
    "pycharm": {
     "name": "#%%\n"
    }
   },
   "outputs": [
    {
     "data": {
      "text/plain": [
       "2.0223062"
      ]
     },
     "execution_count": 13,
     "metadata": {},
     "output_type": "execute_result"
    }
   ],
   "source": [
    "calculate_nll(model, x_test, y_test, batch_size = 512)"
   ]
  },
  {
   "cell_type": "code",
   "execution_count": 19,
   "id": "a7e0aed5",
   "metadata": {
    "pycharm": {
     "name": "#%%\n"
    }
   },
   "outputs": [
    {
     "data": {
      "text/plain": [
       "2.5435415254726155"
      ]
     },
     "execution_count": 19,
     "metadata": {},
     "output_type": "execute_result"
    }
   ],
   "source": [
    "calculate_nll_catboost(model_tree, x_train, y_train)"
   ]
  },
  {
   "cell_type": "code",
   "execution_count": 20,
   "id": "73956769",
   "metadata": {
    "pycharm": {
     "name": "#%%\n"
    }
   },
   "outputs": [
    {
     "data": {
      "text/plain": [
       "2.7918024313225827"
      ]
     },
     "execution_count": 20,
     "metadata": {},
     "output_type": "execute_result"
    }
   ],
   "source": [
    "calculate_nll_catboost(model_tree, x_test, y_test)"
   ]
  },
  {
   "cell_type": "code",
   "execution_count": 4,
   "id": "e403e54f",
   "metadata": {
    "pycharm": {
     "name": "#%%\n"
    }
   },
   "outputs": [],
   "source": [
    "y_test_catboost = model_tree.predict(x_test)\n",
    "y_test_catboost_treeflow = model.tree_model.predict(x_test)\n",
    "\n",
    "y_test_samples = model.sample(x_test, num_samples=1000)\n",
    "y_test_samples = y_test_samples.squeeze()"
   ]
  },
  {
   "cell_type": "code",
   "execution_count": 26,
   "id": "482f72fa",
   "metadata": {
    "pycharm": {
     "name": "#%%\n"
    }
   },
   "outputs": [
    {
     "data": {
      "image/png": "[encoded data removed]",
      "text/plain": [
       "<Figure size 432x288 with 1 Axes>"
      ]
     },
     "metadata": {
      "needs_background": "light"
     },
     "output_type": "display_data"
    }
   ],
   "source": [
    "i = 0\n",
    "\n",
    "plt.axvline(x=y_test.values[i, :], color='r', label='True value')\n",
    "\n",
    "sns.kdeplot(y_test_samples[i, :], color='blue', label='TreeFlow')\n",
    "\n",
    "x = np.linspace(\n",
    "    stats.norm.ppf(0.001, loc=y_test_catboost[i, 0], scale=np.sqrt(y_test_catboost[i, 1])), \n",
    "    stats.norm.ppf(0.999, loc=y_test_catboost[i, 0], scale=np.sqrt(y_test_catboost[i, 1])), \n",
    "    100\n",
    ")\n",
    "plt.plot(x, stats.norm.pdf(x, loc=y_test_catboost[i, 0], scale=np.sqrt(y_test_catboost[i, 1])), color = 'orange', label='CatBoost')\n",
    "\n",
    "plt.legend()\n",
    "plt.savefig('protein_multimodal_1.pdf')"
   ]
  },
  {
   "cell_type": "code",
   "execution_count": 24,
   "id": "1f6c603e",
   "metadata": {
    "pycharm": {
     "name": "#%%\n"
    }
   },
   "outputs": [
    {
     "data": {
      "image/png": "[encoded data removed]",
      "text/plain": [
       "<Figure size 432x288 with 1 Axes>"
      ]
     },
     "metadata": {
      "needs_background": "light"
     },
     "output_type": "display_data"
    }
   ],
   "source": [
    "i = 15\n",
    "\n",
    "plt.axvline(x=y_test.values[i, :], color='r', label='True value')\n",
    "\n",
    "sns.kdeplot(y_test_samples[i, :], color='blue', label='TreeFlow')\n",
    "\n",
    "x = np.linspace(\n",
    "    stats.norm.ppf(0.001, loc=y_test_catboost[i, 0], scale=np.sqrt(y_test_catboost[i, 1])), \n",
    "    stats.norm.ppf(0.999, loc=y_test_catboost[i, 0], scale=np.sqrt(y_test_catboost[i, 1])), \n",
    "    100\n",
    ")\n",
    "plt.plot(x, stats.norm.pdf(x, loc=y_test_catboost[i, 0], scale=np.sqrt(y_test_catboost[i, 1])), color = 'orange', label='CatBoost')\n",
    "\n",
    "plt.legend()\n",
    "plt.savefig('protein_multimodal_2.pdf')"
   ]
  }
 ],
 "metadata": {
  "kernelspec": {
   "display_name": "ProbabilisticFlowBoosting",
   "language": "python",
   "name": "python3"
  },
  "language_info": {
   "codemirror_mode": {
    "name": "ipython",
    "version": 3
   },
   "file_extension": ".py",
   "mimetype": "text/x-python",
   "name": "python",
   "nbconvert_exporter": "python",
   "pygments_lexer": "ipython3",
   "version": "3.8.13"
  }
 },
 "nbformat": 4,
 "nbformat_minor": 5
}