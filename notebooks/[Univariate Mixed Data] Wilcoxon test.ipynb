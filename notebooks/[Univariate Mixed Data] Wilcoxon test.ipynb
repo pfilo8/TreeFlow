{
 "cells": [
  {
   "cell_type": "code",
   "execution_count": 1,
   "id": "b2f10b57",
   "metadata": {
    "pycharm": {
     "name": "#%%\n"
    }
   },
   "outputs": [],
   "source": [
    "from scipy.stats import wilcoxon"
   ]
  },
  {
   "cell_type": "code",
   "execution_count": 2,
   "id": "e916456e",
   "metadata": {
    "pycharm": {
     "name": "#%%\n"
    }
   },
   "outputs": [],
   "source": [
    "catboost = [-0.40, -0.07, -1.80, -1.87, -0.87, -1.43, -0.46, 3.06, 1.38, -1.20, -5.63, 2.79, 2.83, 0.94, 1.18, 3.35]\n",
    "pgbm =     [-0.45, -0.10, -1.41, -1.24, -0.97, -0.53,  0.20, 2.75, 1.74, -0.54, -3.44, 2.60, 2.79, 0.97, 0.05, 3.61]\n",
    "treeflow = [-0.47, -0.08, -1.94, -2.14, -0.74, -1.60, -0.66, 3.02, 0.85, -1.03, -5.54, 2.65, 2.02, -0.56, 0.72, 3.27]"
   ]
  },
  {
   "cell_type": "code",
   "execution_count": 3,
   "outputs": [
    {
     "data": {
      "text/plain": "WilcoxonResult(statistic=20.0, pvalue=0.010986328125)"
     },
     "execution_count": 3,
     "metadata": {},
     "output_type": "execute_result"
    }
   ],
   "source": [
    "wilcoxon(catboost, treeflow)"
   ],
   "metadata": {
    "collapsed": false,
    "pycharm": {
     "name": "#%%\n"
    }
   }
  },
  {
   "cell_type": "code",
   "execution_count": 4,
   "outputs": [
    {
     "data": {
      "text/plain": "WilcoxonResult(statistic=23.0, pvalue=0.01824951171875)"
     },
     "execution_count": 4,
     "metadata": {},
     "output_type": "execute_result"
    }
   ],
   "source": [
    "wilcoxon(pgbm, treeflow)"
   ],
   "metadata": {
    "collapsed": false,
    "pycharm": {
     "name": "#%%\n"
    }
   }
  }
 ],
 "metadata": {
  "kernelspec": {
   "display_name": "Python 3",
   "language": "python",
   "name": "python3"
  },
  "language_info": {
   "codemirror_mode": {
    "name": "ipython",
    "version": 3
   },
   "file_extension": ".py",
   "mimetype": "text/x-python",
   "name": "python",
   "nbconvert_exporter": "python",
   "pygments_lexer": "ipython3",
   "version": "3.6.9"
  }
 },
 "nbformat": 4,
 "nbformat_minor": 5
}